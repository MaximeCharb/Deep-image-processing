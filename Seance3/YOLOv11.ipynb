{
  "nbformat": 4,
  "nbformat_minor": 0,
  "metadata": {
    "colab": {
      "provenance": []
    },
    "kernelspec": {
      "name": "python3",
      "display_name": "Python 3"
    },
    "language_info": {
      "name": "python"
    }
  },
  "cells": [
    {
      "cell_type": "code",
      "source": [
        "# Install the ultralytics package using pip\n",
        "!pip install -q ultralytics\n",
        "\n",
        "from ultralytics import YOLO\n",
        "from matplotlib import pyplot as plt\n",
        "from PIL import Image"
      ],
      "metadata": {
        "colab": {
          "base_uri": "https://localhost:8080/"
        },
        "id": "rLZwpw6lG-l4",
        "outputId": "d069e021-5dbc-4ce1-e4f1-570a1e62ad02"
      },
      "execution_count": null,
      "outputs": [
        {
          "output_type": "stream",
          "name": "stdout",
          "text": [
            "\u001b[2K   \u001b[90m━━━━━━━━━━━━━━━━━━━━━━━━━━━━━━━━━━━━━━━━\u001b[0m \u001b[32m914.9/914.9 kB\u001b[0m \u001b[31m13.5 MB/s\u001b[0m eta \u001b[36m0:00:00\u001b[0m\n",
            "\u001b[2K   \u001b[90m━━━━━━━━━━━━━━━━━━━━━━━━━━━━━━━━━━━━━━━━\u001b[0m \u001b[32m363.4/363.4 MB\u001b[0m \u001b[31m3.8 MB/s\u001b[0m eta \u001b[36m0:00:00\u001b[0m\n",
            "\u001b[2K   \u001b[90m━━━━━━━━━━━━━━━━━━━━━━━━━━━━━━━━━━━━━━━━\u001b[0m \u001b[32m13.8/13.8 MB\u001b[0m \u001b[31m58.3 MB/s\u001b[0m eta \u001b[36m0:00:00\u001b[0m\n",
            "\u001b[2K   \u001b[90m━━━━━━━━━━━━━━━━━━━━━━━━━━━━━━━━━━━━━━━━\u001b[0m \u001b[32m24.6/24.6 MB\u001b[0m \u001b[31m53.5 MB/s\u001b[0m eta \u001b[36m0:00:00\u001b[0m\n",
            "\u001b[2K   \u001b[90m━━━━━━━━━━━━━━━━━━━━━━━━━━━━━━━━━━━━━━━━\u001b[0m \u001b[32m883.7/883.7 kB\u001b[0m \u001b[31m37.2 MB/s\u001b[0m eta \u001b[36m0:00:00\u001b[0m\n",
            "\u001b[2K   \u001b[90m━━━━━━━━━━━━━━━━━━━━━━━━━━━━━━━━━━━━━━━━\u001b[0m \u001b[32m664.8/664.8 MB\u001b[0m \u001b[31m2.8 MB/s\u001b[0m eta \u001b[36m0:00:00\u001b[0m\n",
            "\u001b[2K   \u001b[90m━━━━━━━━━━━━━━━━━━━━━━━━━━━━━━━━━━━━━━━━\u001b[0m \u001b[32m211.5/211.5 MB\u001b[0m \u001b[31m5.2 MB/s\u001b[0m eta \u001b[36m0:00:00\u001b[0m\n",
            "\u001b[2K   \u001b[90m━━━━━━━━━━━━━━━━━━━━━━━━━━━━━━━━━━━━━━━━\u001b[0m \u001b[32m56.3/56.3 MB\u001b[0m \u001b[31m13.7 MB/s\u001b[0m eta \u001b[36m0:00:00\u001b[0m\n",
            "\u001b[2K   \u001b[90m━━━━━━━━━━━━━━━━━━━━━━━━━━━━━━━━━━━━━━━━\u001b[0m \u001b[32m127.9/127.9 MB\u001b[0m \u001b[31m7.4 MB/s\u001b[0m eta \u001b[36m0:00:00\u001b[0m\n",
            "\u001b[2K   \u001b[90m━━━━━━━━━━━━━━━━━━━━━━━━━━━━━━━━━━━━━━━━\u001b[0m \u001b[32m207.5/207.5 MB\u001b[0m \u001b[31m5.8 MB/s\u001b[0m eta \u001b[36m0:00:00\u001b[0m\n",
            "\u001b[2K   \u001b[90m━━━━━━━━━━━━━━━━━━━━━━━━━━━━━━━━━━━━━━━━\u001b[0m \u001b[32m21.1/21.1 MB\u001b[0m \u001b[31m78.6 MB/s\u001b[0m eta \u001b[36m0:00:00\u001b[0m\n",
            "\u001b[?25hCreating new Ultralytics Settings v0.0.6 file ✅ \n",
            "View Ultralytics Settings with 'yolo settings' or at '/root/.config/Ultralytics/settings.json'\n",
            "Update Settings with 'yolo settings key=value', i.e. 'yolo settings runs_dir=path/to/dir'. For help see https://docs.ultralytics.com/quickstart/#ultralytics-settings.\n"
          ]
        }
      ]
    },
    {
      "cell_type": "code",
      "source": [
        "!wget https://uabox.univ-angers.fr/s/XWRYs3j7Aw8T9f7/download/Apple.zip"
      ],
      "metadata": {
        "colab": {
          "base_uri": "https://localhost:8080/"
        },
        "id": "q9mBJDtCUL22",
        "outputId": "7bbbe600-556e-44d0-b065-9793edbe6a65"
      },
      "execution_count": null,
      "outputs": [
        {
          "output_type": "stream",
          "name": "stdout",
          "text": [
            "--2025-02-04 09:58:24--  https://uabox.univ-angers.fr/s/XWRYs3j7Aw8T9f7/download/Apple.zip\n",
            "Resolving uabox.univ-angers.fr (uabox.univ-angers.fr)... 193.49.144.31\n",
            "Connecting to uabox.univ-angers.fr (uabox.univ-angers.fr)|193.49.144.31|:443... connected.\n",
            "HTTP request sent, awaiting response... 200 OK\n",
            "Length: unspecified [application/zip]\n",
            "Saving to: ‘Apple.zip’\n",
            "\n",
            "Apple.zip               [       <=>          ]   1.95G  28.4MB/s    in 74s     \n",
            "\n",
            "2025-02-04 09:59:40 (26.9 MB/s) - ‘Apple.zip’ saved [2094790569]\n",
            "\n"
          ]
        }
      ]
    },
    {
      "cell_type": "code",
      "source": [
        "!unzip -q /content/Apple.zip"
      ],
      "metadata": {
        "id": "ChOa0Bo0XI_L"
      },
      "execution_count": null,
      "outputs": []
    },
    {
      "cell_type": "code",
      "source": [
        "#Instance\n",
        "model = YOLO('yolo11n-seg.pt')  # Transfer the weights CSPDarknet53 from a pretrained model (recommended for training)\n",
        "# model = YOLO('yolov8n-seg.pt')"
      ],
      "metadata": {
        "id": "qWwMqjj4HBHo"
      },
      "execution_count": 17,
      "outputs": []
    },
    {
      "cell_type": "code",
      "source": [
        "%cat /content/Apple/La_et_al.yaml"
      ],
      "metadata": {
        "colab": {
          "base_uri": "https://localhost:8080/"
        },
        "id": "rA58butkHCZW",
        "outputId": "49037ad7-cc7a-481a-81ec-2fed50d752d7"
      },
      "execution_count": null,
      "outputs": [
        {
          "output_type": "stream",
          "name": "stdout",
          "text": [
            "names:\r\n",
            "- Tree\r\n",
            "nc: 1\r\n",
            "test: /content/Apple/AppleTreeDataset/images/val\r\n",
            "train: /content/Apple/AppleTreeDataset/images/train\r\n",
            "val: /content/Apple/AppleTreeDataset/images/val\r\n",
            "\r\n",
            "lr0: 0.01\r\n",
            "\r\n",
            "flipud: 0.5\r\n",
            "hsv_v : 0.1"
          ]
        }
      ]
    },
    {
      "cell_type": "code",
      "source": [
        "#Define a project --> Destination directory for all results\n",
        "project = \"/content/detection\"\n",
        "epoch = 100\n",
        "#Define subdirectory for this specific training\n",
        "name = \"apple\" #note that if you run the training again, it creates a directory: 200_epochs-2"
      ],
      "metadata": {
        "id": "aCRYh0vNHD-E"
      },
      "execution_count": 16,
      "outputs": []
    },
    {
      "cell_type": "code",
      "source": [
        "results = model.train(data='/content/Apple/La_et_al.yaml',\n",
        "                      lr0=0.01,\n",
        "                      hsv_v=0.1,\n",
        "                      close_mosaic=False,\n",
        "                      project=project,\n",
        "                      name=name,\n",
        "                      epochs=epoch,\n",
        "                      optimizer=\"SGD\",\n",
        "                      patience=4, #I am setting patience=0 to disable early stopping.\n",
        "                      batch=4,\n",
        "                      imgsz=512)"
      ],
      "metadata": {
        "colab": {
          "base_uri": "https://localhost:8080/"
        },
        "id": "IPBVNk0xHFVp",
        "outputId": "1d9056b5-b84a-472b-d170-e372be4a720d"
      },
      "execution_count": null,
      "outputs": [
        {
          "output_type": "stream",
          "name": "stdout",
          "text": [
            "Ultralytics 8.3.70 🚀 Python-3.11.11 torch-2.5.1+cu124 CPU (Intel Xeon 2.20GHz)\n",
            "\u001b[34m\u001b[1mengine/trainer: \u001b[0mtask=segment, mode=train, model=yolo11n-seg.pt, data=/content/Apple/La_et_al.yaml, epochs=100, time=None, patience=4, batch=4, imgsz=512, save=True, save_period=-1, cache=False, device=None, workers=8, project=/content/detection, name=apple2, exist_ok=False, pretrained=True, optimizer=SGD, verbose=True, seed=0, deterministic=True, single_cls=False, rect=False, cos_lr=False, close_mosaic=False, resume=False, amp=True, fraction=1.0, profile=False, freeze=None, multi_scale=False, overlap_mask=True, mask_ratio=4, dropout=0.0, val=True, split=val, save_json=False, save_hybrid=False, conf=None, iou=0.7, max_det=300, half=False, dnn=False, plots=True, source=None, vid_stride=1, stream_buffer=False, visualize=False, augment=False, agnostic_nms=False, classes=None, retina_masks=False, embed=None, show=False, save_frames=False, save_txt=False, save_conf=False, save_crop=False, show_labels=True, show_conf=True, show_boxes=True, line_width=None, format=torchscript, keras=False, optimize=False, int8=False, dynamic=False, simplify=True, opset=None, workspace=None, nms=False, lr0=0.01, lrf=0.01, momentum=0.937, weight_decay=0.0005, warmup_epochs=3.0, warmup_momentum=0.8, warmup_bias_lr=0.1, box=7.5, cls=0.5, dfl=1.5, pose=12.0, kobj=1.0, nbs=64, hsv_h=0.015, hsv_s=0.7, hsv_v=0.1, degrees=0.0, translate=0.1, scale=0.5, shear=0.0, perspective=0.0, flipud=0.0, fliplr=0.5, bgr=0.0, mosaic=1.0, mixup=0.0, copy_paste=0.0, copy_paste_mode=flip, auto_augment=randaugment, erasing=0.4, crop_fraction=1.0, cfg=None, tracker=botsort.yaml, save_dir=/content/detection/apple2\n",
            "Overriding model.yaml nc=80 with nc=1\n",
            "\n",
            "                   from  n    params  module                                       arguments                     \n",
            "  0                  -1  1       464  ultralytics.nn.modules.conv.Conv             [3, 16, 3, 2]                 \n",
            "  1                  -1  1      4672  ultralytics.nn.modules.conv.Conv             [16, 32, 3, 2]                \n",
            "  2                  -1  1      6640  ultralytics.nn.modules.block.C3k2            [32, 64, 1, False, 0.25]      \n",
            "  3                  -1  1     36992  ultralytics.nn.modules.conv.Conv             [64, 64, 3, 2]                \n",
            "  4                  -1  1     26080  ultralytics.nn.modules.block.C3k2            [64, 128, 1, False, 0.25]     \n",
            "  5                  -1  1    147712  ultralytics.nn.modules.conv.Conv             [128, 128, 3, 2]              \n",
            "  6                  -1  1     87040  ultralytics.nn.modules.block.C3k2            [128, 128, 1, True]           \n",
            "  7                  -1  1    295424  ultralytics.nn.modules.conv.Conv             [128, 256, 3, 2]              \n",
            "  8                  -1  1    346112  ultralytics.nn.modules.block.C3k2            [256, 256, 1, True]           \n",
            "  9                  -1  1    164608  ultralytics.nn.modules.block.SPPF            [256, 256, 5]                 \n",
            " 10                  -1  1    249728  ultralytics.nn.modules.block.C2PSA           [256, 256, 1]                 \n",
            " 11                  -1  1         0  torch.nn.modules.upsampling.Upsample         [None, 2, 'nearest']          \n",
            " 12             [-1, 6]  1         0  ultralytics.nn.modules.conv.Concat           [1]                           \n",
            " 13                  -1  1    111296  ultralytics.nn.modules.block.C3k2            [384, 128, 1, False]          \n",
            " 14                  -1  1         0  torch.nn.modules.upsampling.Upsample         [None, 2, 'nearest']          \n",
            " 15             [-1, 4]  1         0  ultralytics.nn.modules.conv.Concat           [1]                           \n",
            " 16                  -1  1     32096  ultralytics.nn.modules.block.C3k2            [256, 64, 1, False]           \n",
            " 17                  -1  1     36992  ultralytics.nn.modules.conv.Conv             [64, 64, 3, 2]                \n",
            " 18            [-1, 13]  1         0  ultralytics.nn.modules.conv.Concat           [1]                           \n",
            " 19                  -1  1     86720  ultralytics.nn.modules.block.C3k2            [192, 128, 1, False]          \n",
            " 20                  -1  1    147712  ultralytics.nn.modules.conv.Conv             [128, 128, 3, 2]              \n",
            " 21            [-1, 10]  1         0  ultralytics.nn.modules.conv.Concat           [1]                           \n",
            " 22                  -1  1    378880  ultralytics.nn.modules.block.C3k2            [384, 256, 1, True]           \n",
            " 23        [16, 19, 22]  1    683635  ultralytics.nn.modules.head.Segment          [1, 32, 64, [64, 128, 256]]   \n",
            "YOLO11n-seg summary: 355 layers, 2,842,803 parameters, 2,842,787 gradients, 10.4 GFLOPs\n",
            "\n",
            "Transferred 510/561 items from pretrained weights\n",
            "\u001b[34m\u001b[1mTensorBoard: \u001b[0mStart with 'tensorboard --logdir /content/detection/apple2', view at http://localhost:6006/\n",
            "Freezing layer 'model.23.dfl.conv.weight'\n"
          ]
        },
        {
          "output_type": "stream",
          "name": "stderr",
          "text": [
            "\u001b[34m\u001b[1mtrain: \u001b[0mScanning /content/Apple/AppleTreeDataset/labels/train.cache... 70 images, 0 backgrounds, 0 corrupt: 100%|██████████| 70/70 [00:00<?, ?it/s]"
          ]
        },
        {
          "output_type": "stream",
          "name": "stdout",
          "text": [
            "\u001b[34m\u001b[1malbumentations: \u001b[0mBlur(p=0.01, blur_limit=(3, 7)), MedianBlur(p=0.01, blur_limit=(3, 7)), ToGray(p=0.01, num_output_channels=3, method='weighted_average'), CLAHE(p=0.01, clip_limit=(1.0, 4.0), tile_grid_size=(8, 8))\n"
          ]
        },
        {
          "output_type": "stream",
          "name": "stderr",
          "text": [
            "\n",
            "\u001b[34m\u001b[1mval: \u001b[0mScanning /content/Apple/AppleTreeDataset/labels/val.cache... 30 images, 0 backgrounds, 0 corrupt: 100%|██████████| 30/30 [00:00<?, ?it/s]\n"
          ]
        },
        {
          "output_type": "stream",
          "name": "stdout",
          "text": [
            "Plotting labels to /content/detection/apple2/labels.jpg... \n",
            "\u001b[34m\u001b[1moptimizer:\u001b[0m SGD(lr=0.01, momentum=0.937) with parameter groups 90 weight(decay=0.0), 101 weight(decay=0.0005), 100 bias(decay=0.0)\n",
            "\u001b[34m\u001b[1mTensorBoard: \u001b[0mmodel graph visualization added ✅\n",
            "Image sizes 512 train, 512 val\n",
            "Using 0 dataloader workers\n",
            "Logging results to \u001b[1m/content/detection/apple2\u001b[0m\n",
            "Starting training for 100 epochs...\n",
            "\n",
            "      Epoch    GPU_mem   box_loss   seg_loss   cls_loss   dfl_loss  Instances       Size\n"
          ]
        },
        {
          "output_type": "stream",
          "name": "stderr",
          "text": [
            "      1/100         0G      1.642      5.439      2.632      1.927          8        512: 100%|██████████| 18/18 [01:48<00:00,  6.00s/it]\n",
            "                 Class     Images  Instances      Box(P          R      mAP50  mAP50-95)     Mask(P          R      mAP50  mAP50-95): 100%|██████████| 4/4 [00:24<00:00,  6.14s/it]"
          ]
        },
        {
          "output_type": "stream",
          "name": "stdout",
          "text": [
            "                   all         30         30    0.00333          1      0.272      0.147    0.00333          1      0.255     0.0904\n"
          ]
        },
        {
          "output_type": "stream",
          "name": "stderr",
          "text": [
            "\n"
          ]
        },
        {
          "output_type": "stream",
          "name": "stdout",
          "text": [
            "\n",
            "      Epoch    GPU_mem   box_loss   seg_loss   cls_loss   dfl_loss  Instances       Size\n"
          ]
        }
      ]
    },
    {
      "cell_type": "markdown",
      "source": [
        "## Inférence"
      ],
      "metadata": {
        "id": "-XygolKyayoS"
      }
    },
    {
      "cell_type": "code",
      "source": [
        "import os\n",
        "path_img = '/content/Apple/AppleTreeDataset/images/val'\n",
        "A = [os.path.join(path_img,ix) for ix in os.listdir(path_img)]"
      ],
      "metadata": {
        "id": "h3uFU3XayqbM"
      },
      "execution_count": 10,
      "outputs": []
    },
    {
      "cell_type": "code",
      "source": [
        "model = YOLO('/content/detection/apple/weights/best.pt')  # load a custom model"
      ],
      "metadata": {
        "id": "5a-jRMjqzo7Y"
      },
      "execution_count": 14,
      "outputs": []
    },
    {
      "cell_type": "code",
      "source": [
        "# Run batched inference on a list of images\n",
        "results = model(A)  # return a list of Results objects\n",
        "\n",
        "# # Process results list\n",
        "# for result in results:\n",
        "#     boxes = result.boxes  # Boxes object for bounding box outputs\n",
        "#     masks = result.masks  # Masks object for segmentation masks outputs\n",
        "#     keypoints = result.keypoints  # Keypoints object for pose outputs\n",
        "#     probs = result.probs  # Probs object for classification outputs\n",
        "#     obb = result.obb  # Oriented boxes object for OBB outputs\n",
        "#     result.show()  # display to screen"
      ],
      "metadata": {
        "colab": {
          "base_uri": "https://localhost:8080/"
        },
        "id": "3EQNSbX1ypdb",
        "outputId": "313e8abb-fe7c-4f03-b2ed-b9dfa7427358"
      },
      "execution_count": 15,
      "outputs": [
        {
          "output_type": "stream",
          "name": "stdout",
          "text": [
            "\n",
            "0: 512x512 (no detections), 186.7ms\n",
            "1: 512x512 (no detections), 186.7ms\n",
            "2: 512x512 (no detections), 186.7ms\n",
            "3: 512x512 (no detections), 186.7ms\n",
            "4: 512x512 (no detections), 186.7ms\n",
            "5: 512x512 (no detections), 186.7ms\n",
            "6: 512x512 (no detections), 186.7ms\n",
            "7: 512x512 (no detections), 186.7ms\n",
            "8: 512x512 (no detections), 186.7ms\n",
            "9: 512x512 (no detections), 186.7ms\n",
            "10: 512x512 (no detections), 186.7ms\n",
            "11: 512x512 (no detections), 186.7ms\n",
            "12: 512x512 (no detections), 186.7ms\n",
            "13: 512x512 (no detections), 186.7ms\n",
            "14: 512x512 (no detections), 186.7ms\n",
            "15: 512x512 (no detections), 186.7ms\n",
            "16: 512x512 (no detections), 186.7ms\n",
            "17: 512x512 (no detections), 186.7ms\n",
            "18: 512x512 (no detections), 186.7ms\n",
            "19: 512x512 (no detections), 186.7ms\n",
            "20: 512x512 (no detections), 186.7ms\n",
            "21: 512x512 (no detections), 186.7ms\n",
            "22: 512x512 (no detections), 186.7ms\n",
            "23: 512x512 (no detections), 186.7ms\n",
            "24: 512x512 (no detections), 186.7ms\n",
            "25: 512x512 (no detections), 186.7ms\n",
            "26: 512x512 (no detections), 186.7ms\n",
            "27: 512x512 (no detections), 186.7ms\n",
            "28: 512x512 (no detections), 186.7ms\n",
            "29: 512x512 (no detections), 186.7ms\n",
            "Speed: 3.9ms preprocess, 186.7ms inference, 0.1ms postprocess per image at shape (1, 3, 512, 512)\n"
          ]
        }
      ]
    },
    {
      "cell_type": "code",
      "source": [
        "!yolo val model='/content/detection/apple/weights/best.pt' data='/content/Apple/La_et_al.yaml' split=test imgsz=640 batch=16 conf=0.25 iou=0.6"
      ],
      "metadata": {
        "id": "DmeYhhsnTpSd",
        "colab": {
          "base_uri": "https://localhost:8080/"
        },
        "outputId": "1ae84a16-b65e-44fc-dc39-81bfb55b627f"
      },
      "execution_count": null,
      "outputs": [
        {
          "output_type": "stream",
          "name": "stdout",
          "text": [
            "Ultralytics 8.3.70 🚀 Python-3.11.11 torch-2.5.1+cu124 CPU (Intel Xeon 2.20GHz)\n",
            "YOLO11n-seg summary (fused): 265 layers, 2,834,763 parameters, 0 gradients, 10.2 GFLOPs\n",
            "\u001b[34m\u001b[1mval: \u001b[0mScanning /content/Apple/AppleTreeDataset/labels/val.cache... 30 images, 0 backgrounds, 0 corrupt: 100% 30/30 [00:00<?, ?it/s]\n",
            "                 Class     Images  Instances      Box(P          R      mAP50  mAP50-95)     Mask(P          R      mAP50  mAP50-95): 100% 2/2 [00:38<00:00, 19.10s/it]\n",
            "                   all         30         30          0          0          0          0          0          0          0          0\n",
            "Speed: 12.4ms preprocess, 435.6ms inference, 0.0ms loss, 0.9ms postprocess per image\n",
            "Results saved to \u001b[1mruns/segment/val\u001b[0m\n",
            "💡 Learn more at https://docs.ultralytics.com/modes/val\n"
          ]
        }
      ]
    }
  ]
}