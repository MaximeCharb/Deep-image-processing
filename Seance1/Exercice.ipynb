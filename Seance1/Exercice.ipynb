{
  "cells": [
    {
      "cell_type": "markdown",
      "metadata": {
        "id": "hMkAFufdhWwR"
      },
      "source": [
        "# Exercice"
      ]
    },
    {
      "cell_type": "markdown",
      "metadata": {
        "id": "ciLn2UXzhbPa"
      },
      "source": [
        "L'objectif est de prendre un main un code qui permet d'entrainer un CNN. Nous utiliserons Python et quelques libraries pour la mise en forme."
      ]
    },
    {
      "cell_type": "markdown",
      "metadata": {
        "id": "i72-Ve7niJ9Y"
      },
      "source": [
        "# Installation des librairies"
      ]
    },
    {
      "cell_type": "markdown",
      "metadata": {
        "id": "1kQU0pxdiOhg"
      },
      "source": [
        "Il s'agit de librairies qui seront utilisées pour manipuler les images et le réseau de neurone. Il contient une fonction pour simplement rendre quelques images visibles à titre d'illustration."
      ]
    },
    {
      "cell_type": "code",
      "execution_count": null,
      "metadata": {
        "colab": {
          "base_uri": "https://localhost:8080/"
        },
        "id": "TDt3jAMlTQc7",
        "outputId": "23e39491-9c33-4659-e95d-b71ae2764bd1"
      },
      "outputs": [
        {
          "name": "stdout",
          "output_type": "stream",
          "text": [
            "Collecting livelossplot\n",
            "  Downloading livelossplot-0.5.6-py3-none-any.whl.metadata (8.9 kB)\n",
            "Requirement already satisfied: matplotlib in /usr/local/lib/python3.10/dist-packages (from livelossplot) (3.8.0)\n",
            "Requirement already satisfied: bokeh in /usr/local/lib/python3.10/dist-packages (from livelossplot) (3.6.2)\n",
            "Requirement already satisfied: Jinja2>=2.9 in /usr/local/lib/python3.10/dist-packages (from bokeh->livelossplot) (3.1.4)\n",
            "Requirement already satisfied: contourpy>=1.2 in /usr/local/lib/python3.10/dist-packages (from bokeh->livelossplot) (1.3.1)\n",
            "Requirement already satisfied: numpy>=1.16 in /usr/local/lib/python3.10/dist-packages (from bokeh->livelossplot) (1.26.4)\n",
            "Requirement already satisfied: packaging>=16.8 in /usr/local/lib/python3.10/dist-packages (from bokeh->livelossplot) (24.2)\n",
            "Requirement already satisfied: pandas>=1.2 in /usr/local/lib/python3.10/dist-packages (from bokeh->livelossplot) (2.2.2)\n",
            "Requirement already satisfied: pillow>=7.1.0 in /usr/local/lib/python3.10/dist-packages (from bokeh->livelossplot) (11.0.0)\n",
            "Requirement already satisfied: PyYAML>=3.10 in /usr/local/lib/python3.10/dist-packages (from bokeh->livelossplot) (6.0.2)\n",
            "Requirement already satisfied: tornado>=6.2 in /usr/local/lib/python3.10/dist-packages (from bokeh->livelossplot) (6.3.3)\n",
            "Requirement already satisfied: xyzservices>=2021.09.1 in /usr/local/lib/python3.10/dist-packages (from bokeh->livelossplot) (2024.9.0)\n",
            "Requirement already satisfied: cycler>=0.10 in /usr/local/lib/python3.10/dist-packages (from matplotlib->livelossplot) (0.12.1)\n",
            "Requirement already satisfied: fonttools>=4.22.0 in /usr/local/lib/python3.10/dist-packages (from matplotlib->livelossplot) (4.55.3)\n",
            "Requirement already satisfied: kiwisolver>=1.0.1 in /usr/local/lib/python3.10/dist-packages (from matplotlib->livelossplot) (1.4.7)\n",
            "Requirement already satisfied: pyparsing>=2.3.1 in /usr/local/lib/python3.10/dist-packages (from matplotlib->livelossplot) (3.2.0)\n",
            "Requirement already satisfied: python-dateutil>=2.7 in /usr/local/lib/python3.10/dist-packages (from matplotlib->livelossplot) (2.8.2)\n",
            "Requirement already satisfied: MarkupSafe>=2.0 in /usr/local/lib/python3.10/dist-packages (from Jinja2>=2.9->bokeh->livelossplot) (3.0.2)\n",
            "Requirement already satisfied: pytz>=2020.1 in /usr/local/lib/python3.10/dist-packages (from pandas>=1.2->bokeh->livelossplot) (2024.2)\n",
            "Requirement already satisfied: tzdata>=2022.7 in /usr/local/lib/python3.10/dist-packages (from pandas>=1.2->bokeh->livelossplot) (2024.2)\n",
            "Requirement already satisfied: six>=1.5 in /usr/local/lib/python3.10/dist-packages (from python-dateutil>=2.7->matplotlib->livelossplot) (1.17.0)\n",
            "Downloading livelossplot-0.5.6-py3-none-any.whl (23 kB)\n",
            "Installing collected packages: livelossplot\n",
            "Successfully installed livelossplot-0.5.6\n"
          ]
        }
      ],
      "source": [
        "from tensorflow.keras.datasets import mnist\n",
        "import matplotlib.pyplot as plt\n",
        "import random\n",
        "from tensorflow.keras.utils import to_categorical\n",
        "from sklearn.metrics import precision_score, recall_score\n",
        "\n",
        "!pip install livelossplot\n",
        "import tensorflow as tf\n",
        "from tensorflow.keras.layers import Conv2D, MaxPooling2D, Flatten\n",
        "from tensorflow.keras.models import Sequential # Model type to be used\n",
        "from tensorflow.keras.layers import Dense, Activation, Dropout# Make Fully connected (FC) layers\n",
        "import numpy as np\n",
        "\n",
        "# Visualisation display\n",
        "\n",
        "def show_sample(X_train, Y_train):\n",
        "  plt.figure(figsize=(5,5))\n",
        "  plt.subplot(1,4,1)\n",
        "  index = random.randint(0, X_train.shape[0])\n",
        "  plt.title(Y_train[index])\n",
        "  plt.imshow(X_train[index])\n",
        "  plt.subplot(1,4,2)\n",
        "  index = random.randint(0, X_train.shape[0])\n",
        "  plt.title(Y_train[index])\n",
        "  plt.imshow(X_train[index])\n",
        "  plt.subplot(1,4,3)\n",
        "  index = random.randint(0, X_train.shape[0])\n",
        "  plt.title(Y_train[index])\n",
        "  plt.imshow(X_train[index])\n",
        "  plt.subplot(1,4,4)\n",
        "  index = random.randint(0, X_train.shape[0])\n",
        "  plt.title(Y_train[index])\n",
        "  plt.imshow(X_train[index])\n",
        "\n",
        "def show_fx_negatif(X_test, Y_pred, Y_test):\n",
        "\n",
        "  Y_pred_classes = np.argmax(Y_pred, axis=1)\n",
        "  Y_true_classes = np.argmax(Y_test, axis=1)\n",
        "\n",
        "  FX_NEGATIF = X_test[(Y_pred_classes!=Y_true_classes)]\n",
        "  Pred_fx_negatif = Y_pred_classes[(Y_pred_classes!=Y_true_classes)]\n",
        "  GT_fx_negatif = Y_true_classes[(Y_pred_classes!=Y_true_classes)]\n",
        "\n",
        "  fig, axs = plt.subplots(1, 5, constrained_layout=True)\n",
        "  for p in range(0,5):\n",
        "    i = random.randint(0, len(FX_NEGATIF)-1)\n",
        "    axs[p].imshow(FX_NEGATIF[i])\n",
        "    axs[p].set_title('GT '+str(GT_fx_negatif[i])+'| Pred '+str(Pred_fx_negatif[i]))\n",
        "\n",
        "  fig.suptitle(\"Mauvais classement\", y=0.7, fontsize=16)  # Réduit l'espace entre le titre principal et les graphiques\n",
        "\n",
        "  plt.show()\n",
        "\n",
        "\n",
        "def show_true_positif(X_test, Y_pred, Y_test):\n",
        "\n",
        "  Y_pred_classes = np.argmax(Y_pred, axis=1)\n",
        "  Y_true_classes = np.argmax(Y_test, axis=1)\n",
        "  TR_POSITIF = X_test[(Y_pred_classes==Y_true_classes)]\n",
        "  Pred_tx_positif = Y_pred_classes[(Y_pred_classes==Y_true_classes)]\n",
        "  GT_tx_positif = Y_true_classes[(Y_pred_classes==Y_true_classes)]\n",
        "\n",
        "  fig, axs = plt.subplots(1, 5, constrained_layout=True)\n",
        "  for p in range(0,5):\n",
        "    i = random.randint(0, len(TR_POSITIF)-1)\n",
        "    axs[p].imshow(TR_POSITIF[i])\n",
        "    axs[p].set_title('GT '+str(GT_tx_positif[i])+'| Pred '+str(Pred_tx_positif[i]))\n",
        "\n",
        "  fig.suptitle(\"Bon classement\", y=0.7, fontsize=16)  # Réduit l'espace entre le titre principal et les graphiques\n",
        "\n",
        "  plt.show()\n",
        "\n",
        "\n",
        "def accuracy_per_class(Y_true, Y_pred):\n",
        "  Y_pred_classes = np.argmax(Y_pred, axis=1)\n",
        "  Y_true_classes = np.argmax(Y_true, axis=1)\n",
        "\n",
        "  unique_classes = np.unique(Y_true_classes)\n",
        "  class_counts = {}\n",
        "\n",
        "  for cls in unique_classes:\n",
        "      class_counts[cls] = {\n",
        "          'correct': np.sum((Y_true_classes == cls) & (Y_pred_classes == cls)),\n",
        "          'incorrect': np.sum((Y_true_classes == cls) & (Y_pred_classes != cls))\n",
        "      }\n",
        "\n",
        "  #Prepare the data for the bar chart\n",
        "  classes = list(class_counts.keys())\n",
        "  correct_predictions = [class_counts[cls]['correct'] for cls in classes]\n",
        "  incorrect_predictions = [class_counts[cls]['incorrect'] for cls in classes]\n",
        "\n",
        "  #Create the bar chart\n",
        "  x = np.arange(len(classes))  # the label locations\n",
        "  width = 0.35  # the width of the bars\n",
        "\n",
        "  fig, ax = plt.subplots()\n",
        "  rects1 = ax.bar(x - width/2, correct_predictions, width, label='Correct Predictions')\n",
        "  rects2 = ax.bar(x + width/2, incorrect_predictions, width, label='Incorrect Predictions')\n",
        "\n",
        "  # Add some text for labels, title and custom x-axis tick labels, etc.\n",
        "  ax.set_ylabel('Number of Predictions')\n",
        "  ax.set_title('Prediction Accuracy per Class')\n",
        "  ax.set_xticks(x)\n",
        "  ax.set_xticklabels(classes)\n",
        "  ax.legend()\n",
        "\n",
        "\n",
        "  def autolabel(rects):\n",
        "      \"\"\"Attach a text label above each bar in *rects*, displaying its height.\"\"\"\n",
        "      for rect in rects:\n",
        "          height = rect.get_height()\n",
        "          ax.annotate('{}'.format(height),\n",
        "                      xy=(rect.get_x() + rect.get_width() / 2, height),\n",
        "                      xytext=(0, 3),  # 3 points vertical offset\n",
        "                      textcoords=\"offset points\",\n",
        "                      ha='center', va='bottom')\n",
        "\n",
        "\n",
        "  autolabel(rects1)\n",
        "  autolabel(rects2)\n",
        "\n",
        "  fig.tight_layout()\n",
        "\n",
        "  plt.show()"
      ]
    },
    {
      "cell_type": "markdown",
      "metadata": {
        "id": "20LrNCpyhBio"
      },
      "source": [
        "# Importation des données"
      ]
    },
    {
      "cell_type": "markdown",
      "metadata": {
        "id": "9AkvV3CshG1s"
      },
      "source": [
        "**I -Importation et visualisation des données**\n",
        "\n",
        "Nous utiliserons les données MNIST pour la prise en main de ce code. Cette base de données contient des images de chiffre écrit à la main."
      ]
    },
    {
      "cell_type": "code",
      "execution_count": null,
      "metadata": {
        "colab": {
          "base_uri": "https://localhost:8080/",
          "height": 254
        },
        "id": "iNYUMT8HTL_i",
        "outputId": "3fa685e7-8a4b-4bd1-f98b-c09556b8c2cd"
      },
      "outputs": [
        {
          "name": "stdout",
          "output_type": "stream",
          "text": [
            "MNIST Dataset Shape (images, hauteur, largeur):\n",
            "X_train: (60000, 28, 28)\n",
            "Y_train: (60000,)\n",
            "X_test:  (10000, 28, 28)\n",
            "Y_test:  (10000,)\n"
          ]
        },
        {
          "data": {
            "image/png": "[encoded data removed]",
            "text/plain": [
              "<Figure size 500x500 with 4 Axes>"
            ]
          },
          "metadata": {},
          "output_type": "display_data"
        }
      ],
      "source": [
        "(X_train, Y_train), (X_test, Y_test) = mnist.load_data()\n",
        "\n",
        "print('MNIST Dataset Shape (images, hauteur, largeur):')\n",
        "print('X_train: ' + str(X_train.shape))\n",
        "print('Y_train: ' + str(Y_train.shape))\n",
        "print('X_test:  '  + str(X_test.shape))\n",
        "print('Y_test:  '  + str(Y_test.shape))\n",
        "\n",
        "show_sample(X_train, Y_train)"
      ]
    },
    {
      "cell_type": "markdown",
      "metadata": {
        "id": "uI8guFDViunx"
      },
      "source": [
        "## Constituer une base de données train, validation, test"
      ]
    },
    {
      "cell_type": "markdown",
      "metadata": {
        "id": "HEv7OPGfOuVE"
      },
      "source": [
        "**II - Division de la base de données en train, validation et test**\n"
      ]
    },
    {
      "cell_type": "code",
      "execution_count": null,
      "metadata": {
        "colab": {
          "base_uri": "https://localhost:8080/"
        },
        "id": "iK3BCNlHVXqd",
        "outputId": "1f7e9d11-7914-4e04-b0e4-c267e19c30e0"
      },
      "outputs": [
        {
          "name": "stdout",
          "output_type": "stream",
          "text": [
            "Shape of X_train: (48000, 28, 28)\n",
            "Shape of Y_train: (48000,)\n",
            "Shape of X_val: (12000, 28, 28)\n",
            "Shape of Y_val: (12000,)\n",
            "Shape of X_test: (10000, 28, 28)\n",
            "Shape of Y_test: (10000,)\n"
          ]
        }
      ],
      "source": [
        "from sklearn.model_selection import train_test_split\n",
        "\n",
        "# Assuming X_train and Y_train are already defined from the previous code\n",
        "\n",
        "X_train, X_val, Y_train, Y_val = train_test_split(X_train, Y_train, test_size=0.2, random_state=42)\n",
        "# test_size=0.2 represents 20% for validation\n",
        "# random_state=42 preserve x_train and x_val splitting. 42\n",
        "\n",
        "print(\"Shape of X_train:\", X_train.shape)\n",
        "print(\"Shape of Y_train:\", Y_train.shape)\n",
        "print(\"Shape of X_val:\", X_val.shape)\n",
        "print(\"Shape of Y_val:\", Y_val.shape)\n",
        "print(\"Shape of X_test:\", X_test.shape)\n",
        "print(\"Shape of Y_test:\", Y_test.shape)"
      ]
    },
    {
      "cell_type": "markdown",
      "metadata": {
        "id": "oLoGSHGdi1ou"
      },
      "source": [
        "**III - Pré-traitement des données**\n",
        "\n",
        "\n",
        "Mise en forme des variables pour qu'elles correspondent aux entrées du réseau de neurone."
      ]
    },
    {
      "cell_type": "code",
      "execution_count": null,
      "metadata": {
        "colab": {
          "base_uri": "https://localhost:8080/"
        },
        "id": "3wZ5wA2ja6mR",
        "outputId": "19821602-df3b-416d-c6ba-5bf0941ba004"
      },
      "outputs": [
        {
          "name": "stdout",
          "output_type": "stream",
          "text": [
            "Training matrix shape (48000, 784) (48000, 10)\n",
            "Validation matrix shape (12000, 784) (12000, 10)\n",
            "Testing matrix shape (10000, 784) (10000, 10)\n"
          ]
        }
      ],
      "source": [
        "# Ajout d'un canneau supplémentaire\n",
        "# Type de la données : float32\n",
        "# Normalisation des données pour des pixels entre 0 et 1\n",
        "# Input for model in exercice 1\n",
        "X_train = X_train.reshape(X_train.shape[0],784).astype('float32') #add an additional dimension to represent the single-channel\n",
        "X_val = X_val.reshape(X_val.shape[0], 784).astype('float32') #add an additional dimension to represent the single-channel\n",
        "X_test = X_test.reshape(X_test.shape[0], 784).astype('float32')\n",
        "\n",
        "# normalize inputs from 0-255 to 0-1\n",
        "X_train /= 255\n",
        "X_val /= 255\n",
        "\n",
        "X_train /= 255 # normalize each value for each pixel for the entire vector for each input\n",
        "X_val /= 255 # normalize each value for each pixel for the entire vector for each input\n",
        "X_test /= 255  # normalize each value for each pixel for the entire vector for each input\n",
        "\n",
        "\n",
        "# one hot encode outputs\n",
        "Y_train = to_categorical(Y_train)\n",
        "Y_val = to_categorical(Y_val)\n",
        "Y_test = to_categorical(Y_test)\n",
        "\n",
        "print(\"Training matrix shape\", X_train.shape,Y_train.shape)\n",
        "print(\"Validation matrix shape\", X_val.shape,Y_val.shape)\n",
        "print(\"Testing matrix shape\", X_test.shape,Y_test.shape)"
      ]
    },
    {
      "cell_type": "markdown",
      "metadata": {
        "id": "gIV51gtUjocW"
      },
      "source": [
        "# Modèle CNN"
      ]
    },
    {
      "cell_type": "markdown",
      "metadata": {
        "id": "6sDpyhVJO-TJ"
      },
      "source": [
        "**IV - Définition du modèle**\n"
      ]
    },
    {
      "cell_type": "code",
      "execution_count": null,
      "metadata": {
        "colab": {
          "base_uri": "https://localhost:8080/",
          "height": 196
        },
        "id": "uqjn9XBPdxL0",
        "outputId": "dccc413c-737b-43e9-b192-3963af46c3cd"
      },
      "outputs": [
        {
          "data": {
            "text/html": [
              "<pre style=\"white-space:pre;overflow-x:auto;line-height:normal;font-family:Menlo,'DejaVu Sans Mono',consolas,'Courier New',monospace\"><span style=\"font-weight: bold\">Model: \"sequential_6\"</span>\n",
              "</pre>\n"
            ],
            "text/plain": [
              "\u001b[1mModel: \"sequential_6\"\u001b[0m\n"
            ]
          },
          "metadata": {},
          "output_type": "display_data"
        },
        {
          "data": {
            "text/html": [
              "<pre style=\"white-space:pre;overflow-x:auto;line-height:normal;font-family:Menlo,'DejaVu Sans Mono',consolas,'Courier New',monospace\">┏━━━━━━━━━━━━━━━━━━━━━━━━━━━━━━━━━━━━━━┳━━━━━━━━━━━━━━━━━━━━━━━━━━━━━┳━━━━━━━━━━━━━━━━━┓\n",
              "┃<span style=\"font-weight: bold\"> Layer (type)                         </span>┃<span style=\"font-weight: bold\"> Output Shape                </span>┃<span style=\"font-weight: bold\">         Param # </span>┃\n",
              "┡━━━━━━━━━━━━━━━━━━━━━━━━━━━━━━━━━━━━━━╇━━━━━━━━━━━━━━━━━━━━━━━━━━━━━╇━━━━━━━━━━━━━━━━━┩\n",
              "│ dense_6 (<span style=\"color: #0087ff; text-decoration-color: #0087ff\">Dense</span>)                      │ (<span style=\"color: #00d7ff; text-decoration-color: #00d7ff\">None</span>, <span style=\"color: #00af00; text-decoration-color: #00af00\">10</span>)                  │           <span style=\"color: #00af00; text-decoration-color: #00af00\">7,850</span> │\n",
              "├──────────────────────────────────────┼─────────────────────────────┼─────────────────┤\n",
              "│ activation_6 (<span style=\"color: #0087ff; text-decoration-color: #0087ff\">Activation</span>)            │ (<span style=\"color: #00d7ff; text-decoration-color: #00d7ff\">None</span>, <span style=\"color: #00af00; text-decoration-color: #00af00\">10</span>)                  │               <span style=\"color: #00af00; text-decoration-color: #00af00\">0</span> │\n",
              "└──────────────────────────────────────┴─────────────────────────────┴─────────────────┘\n",
              "</pre>\n"
            ],
            "text/plain": [
              "┏━━━━━━━━━━━━━━━━━━━━━━━━━━━━━━━━━━━━━━┳━━━━━━━━━━━━━━━━━━━━━━━━━━━━━┳━━━━━━━━━━━━━━━━━┓\n",
              "┃\u001b[1m \u001b[0m\u001b[1mLayer (type)                        \u001b[0m\u001b[1m \u001b[0m┃\u001b[1m \u001b[0m\u001b[1mOutput Shape               \u001b[0m\u001b[1m \u001b[0m┃\u001b[1m \u001b[0m\u001b[1m        Param #\u001b[0m\u001b[1m \u001b[0m┃\n",
              "┡━━━━━━━━━━━━━━━━━━━━━━━━━━━━━━━━━━━━━━╇━━━━━━━━━━━━━━━━━━━━━━━━━━━━━╇━━━━━━━━━━━━━━━━━┩\n",
              "│ dense_6 (\u001b[38;5;33mDense\u001b[0m)                      │ (\u001b[38;5;45mNone\u001b[0m, \u001b[38;5;34m10\u001b[0m)                  │           \u001b[38;5;34m7,850\u001b[0m │\n",
              "├──────────────────────────────────────┼─────────────────────────────┼─────────────────┤\n",
              "│ activation_6 (\u001b[38;5;33mActivation\u001b[0m)            │ (\u001b[38;5;45mNone\u001b[0m, \u001b[38;5;34m10\u001b[0m)                  │               \u001b[38;5;34m0\u001b[0m │\n",
              "└──────────────────────────────────────┴─────────────────────────────┴─────────────────┘\n"
            ]
          },
          "metadata": {},
          "output_type": "display_data"
        },
        {
          "data": {
            "text/html": [
              "<pre style=\"white-space:pre;overflow-x:auto;line-height:normal;font-family:Menlo,'DejaVu Sans Mono',consolas,'Courier New',monospace\"><span style=\"font-weight: bold\"> Total params: </span><span style=\"color: #00af00; text-decoration-color: #00af00\">7,850</span> (30.66 KB)\n",
              "</pre>\n"
            ],
            "text/plain": [
              "\u001b[1m Total params: \u001b[0m\u001b[38;5;34m7,850\u001b[0m (30.66 KB)\n"
            ]
          },
          "metadata": {},
          "output_type": "display_data"
        },
        {
          "data": {
            "text/html": [
              "<pre style=\"white-space:pre;overflow-x:auto;line-height:normal;font-family:Menlo,'DejaVu Sans Mono',consolas,'Courier New',monospace\"><span style=\"font-weight: bold\"> Trainable params: </span><span style=\"color: #00af00; text-decoration-color: #00af00\">7,850</span> (30.66 KB)\n",
              "</pre>\n"
            ],
            "text/plain": [
              "\u001b[1m Trainable params: \u001b[0m\u001b[38;5;34m7,850\u001b[0m (30.66 KB)\n"
            ]
          },
          "metadata": {},
          "output_type": "display_data"
        },
        {
          "data": {
            "text/html": [
              "<pre style=\"white-space:pre;overflow-x:auto;line-height:normal;font-family:Menlo,'DejaVu Sans Mono',consolas,'Courier New',monospace\"><span style=\"font-weight: bold\"> Non-trainable params: </span><span style=\"color: #00af00; text-decoration-color: #00af00\">0</span> (0.00 B)\n",
              "</pre>\n"
            ],
            "text/plain": [
              "\u001b[1m Non-trainable params: \u001b[0m\u001b[38;5;34m0\u001b[0m (0.00 B)\n"
            ]
          },
          "metadata": {},
          "output_type": "display_data"
        }
      ],
      "source": [
        "# Exercice 1 FCN neural network\n",
        "model = Sequential([\n",
        "    Dense(10,input_shape=(784,)), # It is the output layer and should be equal to the number of desired classes (10 in this case).\n",
        "    Activation('softmax'),\n",
        "])\n",
        "\n",
        "# # Exercice 2 Including Dropout to reduce overfitting\n",
        "# Pkeep=0.25\n",
        "# modelDeepFC = Sequential([\n",
        "#     Dense(200, input_shape=(784,)),\n",
        "#     Activation('relu'),\n",
        "#     Dropout(Pkeep),\n",
        "#     Dense(100, input_shape=(200,)),\n",
        "#     Activation('relu'),\n",
        "#     Dropout(Pkeep),\n",
        "#     Dense(60, input_shape=(100,)),\n",
        "#     Activation('relu'),\n",
        "#     Dropout(Pkeep),\n",
        "#     Dense(30, input_shape=(60,)),\n",
        "#     Activation('relu'),\n",
        "#     Dropout(Pkeep),\n",
        "#     Dense(10),\n",
        "#     Activation('softmax'),\n",
        "# ])\n",
        "\n",
        "model.summary()"
      ]
    },
    {
      "cell_type": "markdown",
      "metadata": {
        "id": "4GBNn7wrPKrB"
      },
      "source": [
        "**V-a) Hyperparamètres du modèle et de l'entrainement**"
      ]
    },
    {
      "cell_type": "markdown",
      "metadata": {
        "id": "ZYqivCiGjw_Q"
      },
      "source": [
        "Définition des hyperparamètres pour l'apprentissage :\n",
        "\n",
        "1ère groupe:\n",
        "\n",
        "- Algorithme d'optimisation\n",
        "- Fonction de perte (dans le cas d'une classification)\n",
        "- Métrique (dans le cas d'une classification)"
      ]
    },
    {
      "cell_type": "code",
      "execution_count": null,
      "metadata": {
        "id": "x3XfYk7BVx4p"
      },
      "outputs": [],
      "source": [
        "learning_rate = 0.001 #@param {type:\"number\"}\n",
        "optimizer = tf.keras.optimizers.Adam(learning_rate=learning_rate) # Use the specified learning rate\n",
        "model.compile(optimizer=optimizer,\n",
        "              loss='categorical_crossentropy',\n",
        "              metrics=['accuracy'])"
      ]
    },
    {
      "cell_type": "markdown",
      "metadata": {
        "id": "kbT8kW9-kFJo"
      },
      "source": [
        "2eme groupe:\n",
        "- EarlyStopping\n",
        "- Sauvegarde du meilleur modèle"
      ]
    },
    {
      "cell_type": "code",
      "execution_count": null,
      "metadata": {
        "id": "sl-Q92SFWMXN"
      },
      "outputs": [],
      "source": [
        "early_stop = tf.keras.callbacks.EarlyStopping(\n",
        "    monitor='val_loss', patience=5, verbose=1, mode='auto') #Stop training when a monitored metric has stopped improving.\n",
        "\n",
        "checkpoint_filepath = '/content/best_ex1.keras'\n",
        "Model_check = tf.keras.callbacks.ModelCheckpoint(\n",
        "    checkpoint_filepath, monitor='val_loss', verbose=1, save_best_only=True,\n",
        "    save_weights_only=False, mode='auto') #Callback to save the Keras model or model weights at some frequency."
      ]
    },
    {
      "cell_type": "markdown",
      "metadata": {
        "id": "v9Ik1nIekMvQ"
      },
      "source": [
        "3e groupe:\n",
        "- Nombre de batch\n",
        "- Nombre d'epoch\n",
        "- Validation split\n",
        "- Verbose : variable booleenne pour l'affichage de la progression de l'entrainement\n",
        "\n",
        "Lorsque les hyperparamètres d'apprentissage et de l'architecture sont fixées, l'entrainement peut être lancé.\n",
        "\n",
        "**V- b) Entrainement du modèle et évaluation du modèle sur les données de validation**"
      ]
    },
    {
      "cell_type": "code",
      "execution_count": null,
      "metadata": {
        "colab": {
          "base_uri": "https://localhost:8080/",
          "height": 998
        },
        "id": "IVH4WIjDWDx5",
        "outputId": "3de1b439-1298-4156-812f-254dee32d87f"
      },
      "outputs": [
        {
          "data": {
            "image/png": "[encoded data removed]",
            "text/plain": [
              "<Figure size 1200x800 with 2 Axes>"
            ]
          },
          "metadata": {},
          "output_type": "display_data"
        },
        {
          "name": "stdout",
          "output_type": "stream",
          "text": [
            "accuracy\n",
            "\ttraining         \t (min:    0.666, max:    0.666, cur:    0.666)\n",
            "\tvalidation       \t (min:    0.752, max:    0.752, cur:    0.752)\n",
            "Loss\n",
            "\ttraining         \t (min:    1.933, max:    1.933, cur:    1.933)\n",
            "\tvalidation       \t (min:    1.618, max:    1.618, cur:    1.618)\n",
            "\n",
            "Epoch 1: val_loss improved from inf to 1.61755, saving model to /content/best_ex1.keras\n",
            "\u001b[1m16800/16800\u001b[0m \u001b[32m━━━━━━━━━━━━━━━━━━━━\u001b[0m\u001b[37m\u001b[0m \u001b[1m51s\u001b[0m 3ms/step - accuracy: 0.5716 - loss: 2.1060 - val_accuracy: 0.7525 - val_loss: 1.6175\n",
            "Epoch 2/1000\n",
            "\u001b[1m 7100/16800\u001b[0m \u001b[32m━━━━━━━━\u001b[0m\u001b[37m━━━━━━━━━━━━\u001b[0m \u001b[1m23s\u001b[0m 2ms/step - accuracy: 0.7583 - loss: 1.5686"
          ]
        }
      ],
      "source": [
        "# Fiting the model\n",
        "from livelossplot import PlotLossesKeras\n",
        "plotlossesdeeper = PlotLossesKeras()\n",
        "results = model.fit(X_train, Y_train,\n",
        "                    batch_size=2, epochs=1000,\n",
        "                    validation_split=0.3,\n",
        "                    verbose=1,\n",
        "                    callbacks=[plotlossesdeeper,early_stop,Model_check])"
      ]
    },
    {
      "cell_type": "markdown",
      "metadata": {
        "id": "7e_mfmtEksue"
      },
      "source": [
        "## Evaluation"
      ]
    },
    {
      "cell_type": "code",
      "execution_count": null,
      "metadata": {
        "colab": {
          "background_save": true
        },
        "id": "BM4uJZ7hu5rE"
      },
      "outputs": [],
      "source": [
        "model = tf.keras.models.load_model('/content/best_ex1.keras') #Loading the best model"
      ]
    },
    {
      "cell_type": "code",
      "execution_count": null,
      "metadata": {
        "colab": {
          "background_save": true
        },
        "id": "u4nNZvSzkwrA",
        "outputId": "1d92353f-eeba-4f0b-cefd-f22cb3b33e1d"
      },
      "outputs": [
        {
          "name": "stdout",
          "output_type": "stream",
          "text": [
            "\u001b[1m313/313\u001b[0m \u001b[32m━━━━━━━━━━━━━━━━━━━━\u001b[0m\u001b[37m\u001b[0m \u001b[1m5s\u001b[0m 14ms/step - accuracy: 0.9802 - loss: 0.0737\n",
            "{'accuracy': 0.9836999773979187, 'loss': 0.06001406908035278}\n"
          ]
        }
      ],
      "source": [
        "res_ = model.evaluate(X_test,Y_test,return_dict=True) #Evaluation of the model on the test dataset\n",
        "print(res_)"
      ]
    },
    {
      "cell_type": "markdown",
      "metadata": {
        "id": "2VBusZ0Ck1L_"
      },
      "source": [
        "# Inférence"
      ]
    },
    {
      "cell_type": "code",
      "execution_count": null,
      "metadata": {
        "colab": {
          "background_save": true
        },
        "id": "3WbHp8dGk2OC",
        "outputId": "30e3a9f1-5b3a-4368-b71f-c4bffab88e44"
      },
      "outputs": [
        {
          "name": "stdout",
          "output_type": "stream",
          "text": [
            "\u001b[1m313/313\u001b[0m \u001b[32m━━━━━━━━━━━━━━━━━━━━\u001b[0m\u001b[37m\u001b[0m \u001b[1m3s\u001b[0m 9ms/step\n"
          ]
        }
      ],
      "source": [
        "Y_pred = model.predict(X_test) # Prediction of classes"
      ]
    },
    {
      "cell_type": "code",
      "execution_count": null,
      "metadata": {
        "colab": {
          "background_save": true
        },
        "id": "FFcQQRYF6gQN",
        "outputId": "96fae2a4-7dc7-4b4d-8afe-efe76f579b9b"
      },
      "outputs": [
        {
          "name": "stdout",
          "output_type": "stream",
          "text": [
            "Precision: 0.9837916702784895\n",
            "Recall: 0.9835901246990708\n"
          ]
        }
      ],
      "source": [
        "# Convert probabilities to class labels\n",
        "Y_pred_classes = np.argmax(Y_pred, axis=1)\n",
        "Y_true_classes = np.argmax(Y_test, axis=1)\n",
        "\n",
        "# Calculate precision and recall\n",
        "precision = precision_score(Y_true_classes, Y_pred_classes, average='macro')\n",
        "recall = recall_score(Y_true_classes, Y_pred_classes, average='macro')\n",
        "\n",
        "print(f\"Precision: {precision}\")\n",
        "print(f\"Recall: {recall}\")"
      ]
    },
    {
      "cell_type": "code",
      "execution_count": null,
      "metadata": {
        "colab": {
          "background_save": true
        },
        "id": "r6pL4xuTvyL6",
        "outputId": "d698d7c0-6685-4ffa-b42b-3b7112e1dc28"
      },
      "outputs": [
        {
          "data": {
            "image/png": "[encoded data removed]",
            "text/plain": [
              "<Figure size 640x480 with 5 Axes>"
            ]
          },
          "metadata": {},
          "output_type": "display_data"
        },
        {
          "data": {
            "image/png": "[encoded data removed]",
            "text/plain": [
              "<Figure size 640x480 with 5 Axes>"
            ]
          },
          "metadata": {},
          "output_type": "display_data"
        }
      ],
      "source": [
        "# show_true_positif(X_test, Y_pred, Y_test)\n",
        "# show_fx_negatif(X_test, Y_pred, Y_test)"
      ]
    },
    {
      "cell_type": "code",
      "execution_count": null,
      "metadata": {
        "colab": {
          "background_save": true
        },
        "id": "CnBMgFdB6bWi",
        "outputId": "564f8ce9-49a6-4cff-b9ff-6d4f4cee031f"
      },
      "outputs": [
        {
          "data": {
            "image/png": "[encoded data removed]",
            "text/plain": [
              "<Figure size 640x480 with 1 Axes>"
            ]
          },
          "metadata": {},
          "output_type": "display_data"
        }
      ],
      "source": [
        "accuracy_per_class(Y_test, Y_pred)"
      ]
    }
  ],
  "metadata": {
    "colab": {
      "provenance": []
    },
    "kernelspec": {
      "display_name": "Python 3",
      "name": "python3"
    },
    "language_info": {
      "name": "python"
    }
  },
  "nbformat": 4,
  "nbformat_minor": 0
}
